{
 "cells": [
  {
   "cell_type": "code",
   "execution_count": 1,
   "metadata": {},
   "outputs": [
    {
     "data": {
      "text/plain": [
       "True"
      ]
     },
     "execution_count": 1,
     "metadata": {},
     "output_type": "execute_result"
    }
   ],
   "source": [
    "import warnings\n",
    "warnings.filterwarnings('ignore')\n",
    "\n",
    "\n",
    "import os\n",
    "from pathlib import Path\n",
    "from dotenv import load_dotenv\n",
    "import pandas as pd\n",
    "import json \n",
    "from typing import List, Optional\n",
    "from langchain_google_genai import GoogleGenerativeAI\n",
    "from langchain_core.prompts import PromptTemplate\n",
    "#from langchain_core.pydantic_v1 import BaseModel, Field\n",
    "from pydantic import BaseModel, Field\n",
    "\n",
    "from langchain.output_parsers import PydanticOutputParser, OutputFixingParser\n",
    "from langchain_community.document_loaders import PyPDFLoader\n",
    "from langchain.document_loaders import UnstructuredWordDocumentLoader\n",
    "from langchain.document_loaders import Docx2txtLoader\n",
    "\n",
    "load_dotenv()"
   ]
  },
  {
   "cell_type": "code",
   "execution_count": 18,
   "metadata": {},
   "outputs": [],
   "source": [
    "data_dir = Path.cwd().parent.parent / 'sample_data'"
   ]
  },
  {
   "cell_type": "code",
   "execution_count": 32,
   "metadata": {},
   "outputs": [],
   "source": [
    "def load_resume_from_pdf(pdf_path):\n",
    "    loader = PyPDFLoader(pdf_path)\n",
    "    doc = loader.load()\n",
    "    resume_text = \"\"\n",
    "    for page in doc:\n",
    "        resume_text+= page.page_content\n",
    "    return resume_text\n",
    "\n",
    "def load_resume_from_docx(docx_path):\n",
    "    loader = UnstructuredWordDocumentLoader(docx_path)\n",
    "    doc = loader.load()\n",
    "    resume_text = \"\"\n",
    "    for page in doc:\n",
    "        resume_text+= page.page_content\n",
    "    return resume_text"
   ]
  },
  {
   "cell_type": "code",
   "execution_count": 26,
   "metadata": {},
   "outputs": [],
   "source": [
    "prompt_template = \"\"\"\n",
    "Act as an advanced Applicant Tracking System (ATS) with extensive expertise in the tech industry, specifically in software engineering, data science, data analysis, and big data engineering. Your task is to meticulously evaluate the provided resume against the given job description.\n",
    "\n",
    "Consider the following:\n",
    "1. The job market is highly competitive, so provide detailed, actionable feedback to improve the resume.\n",
    "2. Analyze the resume for both hard skills (technical abilities) and soft skills (interpersonal qualities).\n",
    "3. Consider the candidate's experience level and how it aligns with the job requirements.\n",
    "4. Evaluate the resume's formatting and structure for ATS compatibility.\n",
    "5. Assess the clarity and impact of the candidate's achievements and responsibilities.\n",
    "\n",
    "Please provide the following:\n",
    "1. An accurate percentage match between the resume and the job description.\n",
    "2. A comprehensive list of matching keywords and skills found in both the resume and job description\n",
    "3. A comprehensive list of missing keywords and skills from the job description.\n",
    "4. Suggestions for improving the resume to better match the job description.\n",
    "5. A brief profile summary of the candidate based on their resume.\n",
    "6. Top 3 strengths of the candidate relevant to the job description.\n",
    "7. Top 3 areas for improvement or skills to develop.\n",
    "\n",
    "Resume: {text}\n",
    "Job Description: {jd}\n",
    "\"\"\"\n",
    "\n",
    "class ResumeScore(BaseModel):\n",
    "    perc_match: int = Field(description=\"Percentage match between the job description and the resume (0-100)\")\n",
    "    matching_keywords: List[str] = Field(description=\"List of important keywords or skills found in both the resume and job description\")\n",
    "    missing_keywords: List[str] = Field(description=\"List of important keywords or skills from the job description missing in the resume\")\n",
    "    improvement_suggestions: List[str] = Field(description=\"Specific suggestions to improve the resume for better alignment with the job description\")\n",
    "    profile_summary: str = Field(description=\"Concise profile summary of the candidate based on their entire resume\")\n",
    "    top_strengths: List[str] = Field(description=\"Top 3 strengths of the candidate relevant to the job description\")\n",
    "    areas_for_improvement: List[str] = Field(description=\"Top 3 areas for improvement or skills to develop for better job fit\")\n",
    "    ats_compatibility_score: int = Field(description=\"Score for how well the resume is formatted for ATS systems (0-100)\")\n",
    "    experience_level_match: str = Field(description=\"Assessment of how well the candidate's experience level matches the job requirements\")"
   ]
  },
  {
   "cell_type": "code",
   "execution_count": 3,
   "metadata": {},
   "outputs": [],
   "source": [
    "llm = GoogleGenerativeAI(model=\"gemini-1.5-pro\", \n",
    "                        google_api_key=os.environ[\"GEMINI_API_KEY\"])"
   ]
  },
  {
   "cell_type": "code",
   "execution_count": 27,
   "metadata": {},
   "outputs": [],
   "source": [
    "parser = PydanticOutputParser(pydantic_object=ResumeScore)\n",
    "new_parser = OutputFixingParser.from_llm(parser=parser, llm=llm)\n",
    "\n",
    "prompt = PromptTemplate(\n",
    "    template=prompt_template,\n",
    "    input_variables=[\"text\", \"jd\"],\n",
    "    partial_variables={\"format_instructions\": new_parser.get_format_instructions()},\n",
    ")\n",
    "\n",
    "llm_chain = prompt | llm | new_parser"
   ]
  },
  {
   "cell_type": "code",
   "execution_count": 19,
   "metadata": {},
   "outputs": [],
   "source": [
    "resume_path = data_dir / 'resume.pdf'\n",
    "resume_text = load_resume_from_pdf(resume_path)"
   ]
  },
  {
   "cell_type": "code",
   "execution_count": 28,
   "metadata": {},
   "outputs": [],
   "source": [
    "with open(data_dir / 'jd1.txt') as f:\n",
    "    jd = f.read()"
   ]
  },
  {
   "cell_type": "code",
   "execution_count": 29,
   "metadata": {},
   "outputs": [],
   "source": [
    "out = llm_chain.invoke({\"text\" : resume_text, \"jd\" : jd})"
   ]
  },
  {
   "cell_type": "code",
   "execution_count": 38,
   "metadata": {},
   "outputs": [],
   "source": [
    "resume_path = data_dir / 'software-engineer-resume.docx'\n",
    "resume_text = load_resume_from_docx(str(resume_path))\n",
    "\n",
    "out = llm_chain.invoke({\"text\" : resume_text, \"jd\" : jd})"
   ]
  },
  {
   "cell_type": "code",
   "execution_count": 39,
   "metadata": {},
   "outputs": [
    {
     "data": {
      "text/plain": [
       "ResumeScore(perc_match=45, matching_keywords=['Python', 'JavaScript', 'API', 'Database Theory', 'MongoDB', 'MySQL', 'Git', 'Agile', 'Debugging', 'Monitoring'], missing_keywords=['MLOps', 'Real-time ML/LLM deployment & evaluation', 'Large Language Models (LLMs)', 'RAG frameworks', 'Agentic workflows', 'Real-time data processing/monitoring tools', 'Observability best practices for LLMs', 'LLM management/optimization platforms (LangChain, Hugging Face)', 'Data engineering pipelines for real-time input-output logging/analysis', 'Experience building production-quality ML/AI systems'], improvement_suggestions=['Rewrite Summary: Focus on skills relevant to the job description. Quantify achievements and highlight experience related to AI/ML, data processing, or any tangential experience. Remove generic phrases like \"profit-oriented\" and focus on technical strengths.', 'Add Skills Section: Create a dedicated \"Skills\" section listing all relevant keywords, both technical and soft. Include programming languages (Python, JavaScript), tools (Git, potentially relevant cloud platforms), and concepts (MLOps, real-time data processing, LLM frameworks). Be specific.', 'Reframe Projects: While the projects demonstrate web development skills, they don\\'t showcase ML/AI experience. Consider adding projects involving ML models or data analysis, even if they are personal projects. If possible, reframe existing projects to highlight aspects relevant to the job description (e.g., data management in File Fish). Quantify the impact of debugging efforts (e.g., \"Reduced error rates by X%\").', 'Quantify Professional Experience: Provide quantifiable results for each role, emphasizing accomplishments related to performance improvement, debugging, or data analysis. Relate experience to the target role as much as possible, even if the connection is indirect. For example, highlight experience with agile methodologies and managing complex projects.', 'Tailor to the Job Description: Use keywords from the job description throughout the resume. Address the specific requirements and responsibilities mentioned in the job posting.', 'ATS Optimization: Use a clean and simple format. Avoid tables, images, or complex formatting that can confuse ATS software. Use standard fonts and headings.'], profile_summary='John Sasser is a full-stack web developer with experience in building web applications using various technologies, including JavaScript, React, Node.js, and databases. He has project management experience and demonstrates initiative in leading development efforts. However, his resume lacks clear evidence of experience in ML/AI, MLOps, and LLM-specific skills required for the target role.', top_strengths=['Full-Stack Web Development Skills', 'Project Management Experience', 'Problem-Solving Abilities'], areas_for_improvement=['Acquire and Demonstrate MLOps Skills', 'Develop LLM-Specific Expertise', 'Strengthen Data Engineering Skills'], ats_compatibility_score=60, experience_level_match='Junior to Mid-Level')"
      ]
     },
     "execution_count": 39,
     "metadata": {},
     "output_type": "execute_result"
    }
   ],
   "source": [
    "out"
   ]
  }
 ],
 "metadata": {
  "kernelspec": {
   "display_name": "Python 3.9.12 ('.venv': venv)",
   "language": "python",
   "name": "python3"
  },
  "language_info": {
   "codemirror_mode": {
    "name": "ipython",
    "version": 3
   },
   "file_extension": ".py",
   "mimetype": "text/x-python",
   "name": "python",
   "nbconvert_exporter": "python",
   "pygments_lexer": "ipython3",
   "version": "3.9.12"
  },
  "orig_nbformat": 4,
  "vscode": {
   "interpreter": {
    "hash": "733f4072dd202a920bd4cefb96f99aad6ef558d1c868660c06c3f27917c30437"
   }
  }
 },
 "nbformat": 4,
 "nbformat_minor": 2
}
