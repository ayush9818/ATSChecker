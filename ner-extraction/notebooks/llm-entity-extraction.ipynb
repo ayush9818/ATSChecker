{
 "cells": [
  {
   "cell_type": "code",
   "execution_count": 13,
   "metadata": {},
   "outputs": [],
   "source": [
    "import warnings\n",
    "warnings.filterwarnings('ignore')\n",
    "\n",
    "import google.generativeai as genai\n",
    "import os\n",
    "from pathlib import Path\n",
    "from dotenv import load_dotenv\n",
    "import pandas as pd\n",
    "import json \n",
    "from typing import List, Optional\n",
    "from langchain_google_genai import GoogleGenerativeAI\n",
    "from langchain_core.prompts import PromptTemplate\n",
    "#from langchain_core.pydantic_v1 import BaseModel, Field\n",
    "from pydantic import BaseModel, Field\n",
    "\n",
    "from langchain.output_parsers import PydanticOutputParser, OutputFixingParser\n",
    "from langchain_community.document_loaders import PyPDFLoader\n",
    "from langchain.document_loaders import UnstructuredWordDocumentLoader\n",
    "from langchain.document_loaders import Docx2txtLoader\n",
    "\n",
    "load_dotenv()\n",
    "\n",
    "genai.configure(api_key=os.environ[\"GEMINI_API_KEY\"])"
   ]
  },
  {
   "cell_type": "code",
   "execution_count": 5,
   "metadata": {},
   "outputs": [],
   "source": [
    "# Test code to convert pdf to text \n",
    "def parse_resume_from_pdf(pdf_path):\n",
    "    loader = PyPDFLoader(pdf_path)\n",
    "    doc = loader.load()\n",
    "    resume_text = \"\"\n",
    "    for page in doc:\n",
    "        resume_text+= page.page_content\n",
    "    return resume_text \n",
    "\n",
    "# parse_resume_from_pdf(\"/nfs/home/scg1143/ATSChecker/sample_data/resume.pdf\")"
   ]
  },
  {
   "cell_type": "code",
   "execution_count": 10,
   "metadata": {},
   "outputs": [],
   "source": [
    "data_dir = Path.cwd().parent / 'data'\n",
    "resume_data = pd.read_json(data_dir / 'resume_data.json', lines=True)"
   ]
  },
  {
   "cell_type": "code",
   "execution_count": 6,
   "metadata": {},
   "outputs": [],
   "source": [
    "model = genai.GenerativeModel(\"models/gemini-1.5-pro\")"
   ]
  },
  {
   "cell_type": "code",
   "execution_count": 165,
   "metadata": {},
   "outputs": [],
   "source": [
    "llm = GoogleGenerativeAI(model=\"gemini-1.5-pro\", google_api_key=os.environ[\"GEMINI_API_KEY\"])"
   ]
  },
  {
   "cell_type": "code",
   "execution_count": 106,
   "metadata": {},
   "outputs": [],
   "source": [
    "# Reference: https://github.com/611noorsaeed/Resume-Parsing-with-Google-Gemini-LLM-Automated-Resume-Parsing-Form-Filling-with-AI/blob/main/app.py\n",
    "prompt_template = \"\"\"\n",
    "    You are a resume parsing assistant. \n",
    "    Given the following resume text, extract all the important details like name, contact information/email,\n",
    "    education, work experience, skills, year of experience, suggested_resume_category and recommendeded_job_roles\n",
    "    If any detail is not found, just skip that and don't provide any reasoning for anything.\n",
    "    \n",
    "    The resume text:\n",
    "    {resume}\n",
    "    \"\"\""
   ]
  },
  {
   "cell_type": "code",
   "execution_count": 157,
   "metadata": {},
   "outputs": [],
   "source": [
    "class EducationEntry(BaseModel):\n",
    "    degree: Optional[str] = Field(default=None, description=\"Name of the degree obtained, e.g., Bachelor of Science, Master of Engineering.\")\n",
    "    institution: Optional[str] = Field(default=None, description=\"Name of the institution where the degree was pursued.\")\n",
    "\n",
    "class SkillsEntry(BaseModel):\n",
    "    technical: List[str] = Field(default_factory=list, description=\"Technical Skills\")\n",
    "    non_technical: List[str] = Field(default_factory=list, description=\"Non-Technical or Soft Skills\")\n",
    "\n",
    "class WorkExperienceEntry(BaseModel):\n",
    "    company: Optional[str] = Field(default=None, description=\"Name of the company candidate has worked at\")\n",
    "    role: Optional[str] = Field(default=None, description=\"Job role at the company\")\n",
    "    start_date: Optional[str] = Field(default=None, description=\"Start date of the Job.\")\n",
    "    end_date: Optional[str] = Field(default=None, description=\"End date of the Job.\")\n",
    "\n",
    "class ResumeContent(BaseModel):\n",
    "    name: Optional[str] = Field(default=None, description=\"Name of the candidate\")\n",
    "    skills: Optional[SkillsEntry] = Field(default_factory=SkillsEntry, description=\"Technical and Non-Technical Skills of the candidate\")\n",
    "    education: List[EducationEntry] = Field(default_factory=list, description=\"List of educational qualifications, where each entry contains details about degree, institution, and dates.\")\n",
    "    work_experience: List[WorkExperienceEntry] = Field(default_factory=list, description=\"List of work experiences, where each experience include company name, role, start date and end date.\")\n",
    "    suggested_resume_category: Optional[str] = Field(default=None, description=\"Suggested Resume Category (based on the skills and experience)\") \n",
    "    recommendeded_job_roles: List[str] = Field(default_factory=list, description=\"Recommended Job Roles (based on the candidate's skills and experience)\")\n",
    "    years_of_experience: Optional[int] = Field(default=None, description=\"Years of Experience, calculated from work experience\")"
   ]
  },
  {
   "cell_type": "code",
   "execution_count": 170,
   "metadata": {},
   "outputs": [],
   "source": [
    "parser = PydanticOutputParser(pydantic_object=ResumeContent)\n",
    "new_parser = OutputFixingParser.from_llm(parser=parser, llm=llm)\n",
    "\n",
    "prompt = PromptTemplate(\n",
    "    template=prompt_template,\n",
    "    input_variables=[\"resume\"],\n",
    "    partial_variables={\"format_instructions\": new_parser.get_format_instructions()},\n",
    ")"
   ]
  },
  {
   "cell_type": "code",
   "execution_count": 171,
   "metadata": {},
   "outputs": [],
   "source": [
    "chain = prompt | llm | new_parser"
   ]
  },
  {
   "cell_type": "code",
   "execution_count": 160,
   "metadata": {},
   "outputs": [
    {
     "data": {
      "text/plain": [
       "ResumeContent(name='Asish Ratha', skills=SkillsEntry(technical=['Invoice', 'posting', 'Invoice processing', 'sap posting', 'vendor call attend and resolve the issue', 'meet SLA tat', 'working with client tool'], non_technical=['TRAINING', 'Team handling', 'new joiners training']), education=[EducationEntry(degree=None, institution='Berhampur university, Khallikote autonomous college - Brahmapur, Orissa')], work_experience=[WorkExperienceEntry(company='Accenture', role='Subject matter Expert', start_date='March 2012', end_date='Present')], suggested_resume_category='Accounting/Finance, Customer Service, Operations', recommendeded_job_roles=['Subject Matter Expert', 'Invoice Processing Specialist', 'Trainer', 'Team Lead', 'Client Support Specialist'], years_of_experience=11)"
      ]
     },
     "execution_count": 160,
     "metadata": {},
     "output_type": "execute_result"
    }
   ],
   "source": [
    "resume_content = resume_data.content.iloc[10]\n",
    "output = chain.invoke({'resume' : resume_content})\n",
    "output"
   ]
  },
  {
   "cell_type": "code",
   "execution_count": 163,
   "metadata": {},
   "outputs": [],
   "source": [
    "output.education[0].degree"
   ]
  },
  {
   "cell_type": "code",
   "execution_count": 166,
   "metadata": {},
   "outputs": [
    {
     "data": {
      "text/plain": [
       "ResumeContent(name='Govardhana K', skills=SkillsEntry(technical=['APEX', 'Data Structures', 'FLEXCUBE', 'Oracle', 'Algorithms', 'Core Java', 'Go Lang', 'Oracle PL-SQL programming', 'Sales Force with APEX', 'RADTool', 'Jdeveloper', 'NetBeans', 'Eclipse', 'SQL developer', 'PL/SQL Developer', 'WinSCP', 'Putty', 'JavaScript', 'XML', 'HTML', 'Webservice', 'Linux', 'Windows', 'SVN', 'GitHub', 'Web logic', 'OC4J'], non_technical=[]), education=[EducationEntry(degree='B.E in Computer Science Engineering', institution='Adithya Institute of Technology, Tamil Nadu')], work_experience=[WorkExperienceEntry(company='Cloud Lending Solutions', role='Senior Software Engineer', start_date='January 2018', end_date='Present'), WorkExperienceEntry(company='Oracle', role='Senior Consultant', start_date='November 2016', end_date='December 2017'), WorkExperienceEntry(company='Oracle', role='Staff Consultant', start_date='January 2014', end_date='October 2016'), WorkExperienceEntry(company='Oracle', role='Associate Consultant', start_date='November 2012', end_date='December 2013')], suggested_resume_category=None, recommendeded_job_roles=[], years_of_experience=10)"
      ]
     },
     "execution_count": 166,
     "metadata": {},
     "output_type": "execute_result"
    }
   ],
   "source": [
    "resume_content = resume_data.content.iloc[20]\n",
    "output = chain.invoke({'resume' : resume_content})\n",
    "output"
   ]
  },
  {
   "cell_type": "code",
   "execution_count": 172,
   "metadata": {},
   "outputs": [
    {
     "data": {
      "text/plain": [
       "ResumeContent(name='Jay Madhavi', skills=SkillsEntry(technical=['SQL', 'Oracle', 'Android Application Development', 'Code Optimization', 'Website Development'], non_technical=[]), education=[EducationEntry(degree='BE (Computer Science)', institution='Saraswati College Of Engineering, Kharghar - Mumbai, Maharashtra'), EducationEntry(degree='HSC', institution='Acharya College Chembur - Mumbai, Maharashtra'), EducationEntry(degree='SSC', institution='State Board')], work_experience=[WorkExperienceEntry(company='NIIT', role=None, start_date='2016', end_date='2016'), WorkExperienceEntry(company='SQL Oracle', role=None, start_date='2016', end_date='2016'), WorkExperienceEntry(company='MSCIT', role=None, start_date='2011', end_date='2011')], suggested_resume_category='Entry Level/ Fresher', recommendeded_job_roles=[], years_of_experience=None)"
      ]
     },
     "execution_count": 172,
     "metadata": {},
     "output_type": "execute_result"
    }
   ],
   "source": [
    "resume_content = resume_data.content.iloc[25]\n",
    "output = chain.invoke({'resume' : resume_content})\n",
    "output"
   ]
  },
  {
   "cell_type": "code",
   "execution_count": 174,
   "metadata": {},
   "outputs": [
    {
     "data": {
      "text/plain": [
       "ResumeContent(name='Yasothai Jayaramachandran', skills=SkillsEntry(technical=['Automation', 'Regression', 'Sanity', 'Manual Testing', 'Selenium Webdriver', 'Python', 'Pycharm', 'Eclipse', 'Pydev plugin', 'TCL Programming', 'Agile development', 'Scrum Master', 'optimization', 'router', 'Testing', 'Power Query', 'SQL', 'Shell Scripting', 'C#', 'Networking', 'WAAS', 'WAE', 'WCCP Protocol', 'ATS', 'Selenium Testing Framework', 'CDETS', 'Rally', 'eARMS', 'ACME', 'TIMS', 'HTMLTestRunner', 'ARAS PLM', 'AML Studio', 'Windows XP/10', 'Linux'], non_technical=[]), education=[EducationEntry(degree='B.E in CSE', institution='ANNA University'), EducationEntry(degree=None, institution='Day Adventist Matric Hr.Sec School')], work_experience=[WorkExperienceEntry(company='Cisco Systems', role='Lead Engineer - Automation & Testing', start_date='January 2014', end_date='June 2015'), WorkExperienceEntry(company='Cisco Systems', role='Member Technical Staff - Automation & Testing', start_date='January 2013', end_date='December 2013'), WorkExperienceEntry(company='HCL Technologies Ltd', role='Software Engineer - Automation & Testing', start_date='June 2011', end_date='December 2012')], suggested_resume_category='Software Testing/QA Automation', recommendeded_job_roles=['QA Automation Engineer', 'Test Automation Engineer', 'Automation Test Lead', 'Senior QA Automation Engineer'], years_of_experience=4)"
      ]
     },
     "execution_count": 174,
     "metadata": {},
     "output_type": "execute_result"
    }
   ],
   "source": [
    "resume_content = resume_data.content.iloc[100]\n",
    "output = chain.invoke({'resume' : resume_content})\n",
    "output"
   ]
  }
 ],
 "metadata": {
  "kernelspec": {
   "display_name": "Python 3.9.12 ('.venv': venv)",
   "language": "python",
   "name": "python3"
  },
  "language_info": {
   "codemirror_mode": {
    "name": "ipython",
    "version": 3
   },
   "file_extension": ".py",
   "mimetype": "text/x-python",
   "name": "python",
   "nbconvert_exporter": "python",
   "pygments_lexer": "ipython3",
   "version": "3.9.12"
  },
  "orig_nbformat": 4,
  "vscode": {
   "interpreter": {
    "hash": "733f4072dd202a920bd4cefb96f99aad6ef558d1c868660c06c3f27917c30437"
   }
  }
 },
 "nbformat": 4,
 "nbformat_minor": 2
}
